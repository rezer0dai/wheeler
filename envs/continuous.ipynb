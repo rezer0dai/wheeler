{
 "cells": [
  {
   "cell_type": "markdown",
   "metadata": {},
   "source": [
    "# OpenAI Gym ~ continuous problems (Pendulum-v0)\n",
    "- *Wheeler task definition ( task wrapper, State decoder settings, NeuralNetwork, ReplayBuffer, .. )*"
   ]
  },
  {
   "cell_type": "markdown",
   "metadata": {},
   "source": [
    "### Import generics"
   ]
  },
  {
   "cell_type": "code",
   "execution_count": 1,
   "metadata": {},
   "outputs": [],
   "source": [
    "import os, time\n",
    "\n",
    "os.chdir(\"..\")\n",
    "\n",
    "import numpy as np\n",
    "import toml, gym\n",
    "\n",
    "import torch\n",
    "from torch.multiprocessing import Queue, Process"
   ]
  },
  {
   "cell_type": "markdown",
   "metadata": {},
   "source": [
    "### Prepare statistic helpers"
   ]
  },
  {
   "cell_type": "code",
   "execution_count": 2,
   "metadata": {},
   "outputs": [],
   "source": [
    "import matplotlib.pyplot as plt\n",
    "%matplotlib inline\n",
    "\n",
    "def print_stats(scores, title):\n",
    "    fig = plt.figure()\n",
    "    ax = fig.add_subplot(111)\n",
    "    plt.plot(np.arange(1, len(scores)+1), scores)\n",
    "    plt.ylabel('Rewards')\n",
    "    plt.xlabel(title)\n",
    "    plt.show()"
   ]
  },
  {
   "cell_type": "markdown",
   "metadata": {},
   "source": [
    "### Load task configs ~ this should be adopted offline for particular task"
   ]
  },
  {
   "cell_type": "code",
   "execution_count": 3,
   "metadata": {},
   "outputs": [],
   "source": [
    "CFG = toml.loads(open('cfg.toml').read())\n",
    "GYM_CFG = toml.loads(open('gym.toml').read())\n",
    "\n",
    "torch.set_default_tensor_type(CFG['tensor'])\n",
    "\n",
    "CFG['task'] = \"Pendulum-v0\""
   ]
  },
  {
   "cell_type": "markdown",
   "metadata": {},
   "source": [
    "### Import wheeler environment and particular utils we want to use ~ general ones ( shared across tasks )"
   ]
  },
  {
   "cell_type": "code",
   "execution_count": 4,
   "metadata": {},
   "outputs": [],
   "source": [
    "from utils.task import Task\n",
    "from utils.taskinfo import *\n",
    "\n",
    "from utils.rbf import *\n",
    "from utils.normalizer import *\n",
    "\n",
    "from utils.taskmgr import *\n",
    "from utils.replay import *\n",
    "\n",
    "from utils.fastmem import Memory\n",
    "\n",
    "from utils.curiosity import *\n",
    "\n",
    "from agent.zer0bot import agent_launch"
   ]
  },
  {
   "cell_type": "markdown",
   "metadata": {},
   "source": [
    "### Define Task wrapper ~ when is goal met, how to step ( update rewards function, .. ), when / how to reset"
   ]
  },
  {
   "cell_type": "code",
   "execution_count": 5,
   "metadata": {},
   "outputs": [],
   "source": [
    "class GymTask(Task):\n",
    "    def step_ex(self, action, test = False):\n",
    "        # TODO : unify env taking steps ( my bad at engineering {Local/Remote}TaskManager )\n",
    "        # so while step_ex can be by default in utils/task.py\n",
    "        state, reward, done, _ = self.env.step(self.bot_id, self.objective_id, action)\n",
    "\n",
    "        if test: return action, state.reshape(1, -1), reward, done, True\n",
    "        \n",
    "        return action, state, reward, done, True\n",
    "\n",
    "    def goal_met(self, states, rewards, n_steps):\n",
    "        return sum(rewards) > -150."
   ]
  },
  {
   "cell_type": "markdown",
   "metadata": {},
   "source": [
    "### Generic proxy for creating our Task ( multiprocess environments purpose mainly ) \n",
    "- but can also add wrapping function approx values ( action value to tanh, sigmoid, .. ) - this not works well with PPO now"
   ]
  },
  {
   "cell_type": "code",
   "execution_count": 6,
   "metadata": {},
   "outputs": [],
   "source": [
    "class GymInfo(TaskInfo):\n",
    "    def __init__(self, env, replaybuf, factory, Mgr, args):\n",
    "        super().__init__(\n",
    "                len(env.reset()), 1, # genericly get action_size ...\n",
    "                float(env.action_space.low[0]), float(env.action_space.high[0]),\n",
    "                CFG,\n",
    "                replaybuf,\n",
    "                factory, Mgr, args)\n",
    "\n",
    "    def new(self, cfg, bot_id, objective_id):\n",
    "        return GymTask(cfg,\n",
    "                self.env,\n",
    "                objective_id, bot_id,\n",
    "                self.action_low, self.action_high)\n",
    "\n",
    "    @staticmethod\n",
    "    def factory(ind): # bare metal task creation\n",
    "        global CFG\n",
    "        print(\"created %i-th task\"%ind)\n",
    "        return gym.make(CFG['task'])"
   ]
  },
  {
   "cell_type": "markdown",
   "metadata": {},
   "source": [
    "### Implement callback for testing policy ~ per X training rounds, we want to test it ~ enable visuals if you want"
   ]
  },
  {
   "cell_type": "code",
   "execution_count": 7,
   "metadata": {},
   "outputs": [],
   "source": [
    "def context_callback(count, print_every):\n",
    "    context_callback.z = 0\n",
    "    context_callback.scores = []\n",
    "    context_callback.total_scores = []\n",
    "    def callback(task, agent, scores):\n",
    "        context_callback.z += 1\n",
    "        context_callback.total_scores += scores\n",
    "        if 0 == context_callback.z % print_every:\n",
    "            print(\"\\nTEST review : \", np.mean(context_callback.scores[-print_every:]))\n",
    "        # we can save scores to main queue, and avarage them, or we can ..\n",
    "        # run testing w/ visuals :\n",
    "        for _ in range(count):\n",
    "            done, states, rewards = task.test_policy(agent)\n",
    "            rewards = sum(rewards)\n",
    "            context_callback.scores.append(rewards)\n",
    "            if not done:\n",
    "                return None\n",
    "            \n",
    "        print_stats(context_callback.total_scores, \"learning algorithm\")\n",
    "\n",
    "        print(\"\\n\")\n",
    "        print(\"=\"*80)\n",
    "        print(\"training over\", context_callback.z * GYM_CFG['n_simulations'] * GYM_CFG['mcts_rounds'])\n",
    "        print(\"=\"*80)        \n",
    "\n",
    "        return context_callback.scores\n",
    "    return callback"
   ]
  },
  {
   "cell_type": "markdown",
   "metadata": {},
   "source": [
    "### Prepare neural network which we will be using"
   ]
  },
  {
   "cell_type": "code",
   "execution_count": 8,
   "metadata": {},
   "outputs": [],
   "source": [
    "from models import ddpg_model, noisy_model, state_action_model\n",
    "\n",
    "def CriticNN(state_size, action_size, wrap_value, cfg):\n",
    "    return state_action_model.Critic(state_size, action_size, wrap_value, cfg, fcs1_units=256, fc2_units=128)\n",
    "\n",
    "def ActorNN(state_size, action_size, wrap_action, cfg):\n",
    "    return noisy_model.Actor(state_size, action_size, wrap_action, cfg, hiddens=[400, 300])\n",
    "    return noisy_model.Actor(state_size, action_size, wrap_action, cfg, hiddens=[128, 64])"
   ]
  },
  {
   "cell_type": "markdown",
   "metadata": {},
   "source": [
    "### Select encoders"
   ]
  },
  {
   "cell_type": "code",
   "execution_count": 9,
   "metadata": {},
   "outputs": [],
   "source": [
    "from utils.encoders import *\n",
    "from utils.rnn import *#GRUEncoder\n",
    "\n",
    "def encoderstack(env):\n",
    "    norm = IdentityEncoder(GYM_CFG, len(env.reset()))\n",
    "    return norm\n",
    "    norm = GlobalNormalizer(GYM_CFG, len(env.reset()))\n",
    "    return norm\n",
    "    experience = GRUEncoder(GYM_CFG, norm.total_size())#GRU#LSTM\n",
    "    encoder_norm = StackedEncoder(GYM_CFG, len(env.reset()), norm, experience)\n",
    "    encoder_norm.share_memory()\n",
    "    return encoder_norm"
   ]
  },
  {
   "cell_type": "markdown",
   "metadata": {},
   "source": [
    "### Cook Task : replay buffer ( fast / prio-gae-rnn ) + task manager ( local / remote / unity )"
   ]
  },
  {
   "cell_type": "code",
   "execution_count": 10,
   "metadata": {},
   "outputs": [],
   "source": [
    "def taskfactory(env):\n",
    "    return GymInfo(env, Memory, GymInfo.factory, LocalTaskManager, ())\n",
    "    return GymInfo(env, ReplayBuffer, GymInfo.factory, LocalTaskManager, ())\n",
    "    return GymInfo(env, ReplayBuffer, GymInfo.factory, RemoteTaskManager, (LocalTaskManager, 1 + GYM_CFG['n_simulations']))"
   ]
  },
  {
   "cell_type": "markdown",
   "metadata": {},
   "source": [
    "### Glue it all together ~ select buffer, encoders, agents, ... and RUN!!"
   ]
  },
  {
   "cell_type": "code",
   "execution_count": 11,
   "metadata": {},
   "outputs": [
    {
     "name": "stdout",
     "output_type": "stream",
     "text": [
      "{'ddpg': True, 'gae': False, 'n_step': 3, 'batch_size': 128, 'select_count': 10, 'discount_rate': 0.99, 'n_simulations': 1, 'send_exp_delta': 20, 'critic_learn_delta': 80, 'fast_exp_epochs': 40, 'full_replay_count': 20, 'lr_actor': 0.0003, 'lr_critic': 0.0001, 'mcts_rounds': 1, 'max_n_episode': 1000, 'max_ep_draw_count': 20, 'detached_actor': False, 'freeze_delta': 2, 'freeze_count': 4, 'history_count': 4, 'rnn_n_layers': 2, 'full_rnn_out': False, 'history_features': 256, 'her_state_size': 0, 'her_state_features': 0, 'postpone_exploring_while_learning': 2, 'ppo_eps': 0.2, 'loss_min': 1000, 'gae_tau': 0.95, 'replay_size': 10000, 'her_max_ratio': 3, 'replay_reanalyze': True, 'replay_cleaning': False, 'prob_treshold': 3.0, 'replay_alpha': 0.7, 'replay_beta_iters': 10000, 'replay_beta_base': 0.3, 'replay_beta_top': 0.9, 'pg_mean': True, 'action_repeat': 1, 'good_reach': 1, 'advantages_enabled': True, 'advantages_boost': False, 'normalize_advantages': False, 'attention_enabled': False, 'attention_hidden': 64, 'attention_amplifier': 2.0, 'mcts_random_cap': 1000000, 'use_curiosity_buf': True, 'actor_update_delay': 3, 'critic_update_delay': 3, 'tau_base': 0.001, 'tau_final': 0.007, 'tau_replay_counter': 100000, 'max_n_step': -10000, 'dbgout_train': True, 'dbgout_ratio': False, 'dbgout': True, 'loss_debug': False, 'device': 'cpu', 'tensor': 'torch.DoubleTensor', 'model_path': 'reacher_sig_dtb', 'load': False, 'save': False}\n",
      "\u001b[33mWARN: gym.spaces.Box autodetected dtype as <class 'numpy.float32'>. Please provide explicit dtype.\u001b[0m\n",
      "\u001b[33mWARN: gym.spaces.Box autodetected dtype as <class 'numpy.float32'>. Please provide explicit dtype.\u001b[0m\n",
      "created 0-th task\n",
      "\u001b[33mWARN: gym.spaces.Box autodetected dtype as <class 'numpy.float32'>. Please provide explicit dtype.\u001b[0m\n",
      "\u001b[33mWARN: gym.spaces.Box autodetected dtype as <class 'numpy.float32'>. Please provide explicit dtype.\u001b[0m\n",
      "created 1-th task\n",
      "\u001b[33mWARN: gym.spaces.Box autodetected dtype as <class 'numpy.float32'>. Please provide explicit dtype.\u001b[0m\n",
      "\u001b[33mWARN: gym.spaces.Box autodetected dtype as <class 'numpy.float32'>. Please provide explicit dtype.\u001b[0m\n",
      "[0>  10::     0] training =  0, steps = 200, max_step = 200, reward=-1462.189157 ::[[2.]]: [ TARGET:-4.920406 replay::1800 ]<----<--------\n",
      "TEST review :  -1547.6513518580216\n",
      "[0>  20::     0] training =  0, steps = 200, max_step = 200, reward=-650.755500 ::[[0.16302944]]: [ TARGET:-0.586716 replay::3800 ]<-------\n",
      "TEST review :  -1557.6529804112101\n",
      "[0>  30::     0] training =  0, steps = 200, max_step = 200, reward=-1101.429250 ::[[2.]]: 117]]:  :-27.788227 replay::5800 ]<----0 ]<----\n",
      "TEST review :  -1292.3502115757708\n",
      "[0>  40::     0] training =  0, steps = 200, max_step = 200, reward=-938.439204 ::[[2.]]: 0818]]:  :-15.478034 replay::7800 ]<----]<------\n",
      "TEST review :  -1031.789260419092\n",
      "[0>  50::     0] training =  0, steps = 200, max_step = 200, reward=-1033.022526 ::[[2.]]: 4]]: :  -55.862230 replay::9800 ]<-----]<------\n",
      "TEST review :  -1048.4897375890773\n",
      "[0>  60::     0] training =  0, steps = 200, max_step = 200, reward=-934.833519 ::[[-2.]]: 445]]:  [ TARGET:-53.797953 replay::10000 ]<----\n",
      "TEST review :  -1049.06416414547\n",
      "[0>  70::     0] training =  0, steps = 200, max_step = 200, reward=-1037.321960 ::[[-2.]]: 881]]: -73.992615 replay::10000 ]<----- ]<-----\n",
      "TEST review :  -897.7522279211832\n",
      "[0>  80::     0] training =  0, steps = 200, max_step = 200, reward=-565.383203 ::[[-2.]]: 0788]]: -21.602248 replay::10000 ]<-----]<------\n",
      "TEST review :  -741.2122531950115\n",
      "[0>  90::     0] training =  0, steps = 200, max_step = 200, reward=-406.105485 ::[[1.89887387]]:   TARGET:-50.634207 replay::10000 ]<----\n",
      "TEST review :  -794.91578441553\n",
      "[0> 100::     0] training =  0, steps = 200, max_step = 200, reward=-387.720827 ::[[1.20647853]]:  [ TARGET:-3.861420 replay::10000 ]<-----\n",
      "TEST review :  -351.9547459503906\n",
      "[0> 110::     0] training =  0, steps = 200, max_step = 200, reward=-253.192317 ::[[-1.42064343]]: -4.418199 replay::10000 ]<----00 ]<-----\n",
      "TEST review :  -231.6547482022585\n",
      "[0> 120::     0] training =  0, steps = 200, max_step = 200, reward=-422.613483 ::[[-0.14919317]]: -99.915686 replay::10000 ]<----000 ]<----\n",
      "TEST review :  -607.7222745153974\n",
      "[0> 130::     0] training =  0, steps = 200, max_step = 200, reward=-255.294546 ::[[2.]]: 5378]]:   TARGET:-3.386088 replay::10000 ]<------\n",
      "TEST review :  -341.7386727279118\n",
      "[0> 140::     0] training =  0, steps = 200, max_step = 200, reward=-260.374048 ::[[0.62993113]]:  -37.031618 replay::10000 ]<----0 ]<------\n",
      "TEST review :  -170.08615008638395\n",
      "[0> 150::     0] training =  0, steps = 200, max_step = 200, reward=-578.765907 ::[[-0.60167784]]: -120.293628 replay::10000 ]<----<-------\n",
      "TEST review :  -191.3313094149575\n",
      "[0> 160::     0] training =  0, steps = 200, max_step = 200, reward=-135.716803 ::[[-1.65738102]]:  TARGET:-2.688530 replay::10000 ]<-------\n",
      "TEST review :  -168.14616237350668\n",
      "[0> 170::     0] training =  0, steps = 200, max_step = 200, reward=-135.478054 ::[[0.71628482]]:   TARGET:-10.945561 replay::10000 ]<------\n",
      "TEST review :  -139.74376347278925\n",
      "[0> 176::     0] training =  0, steps = 200, max_step = 200, reward=-4.573716 ::[[2.]]: 70497]]: TARGET:-2.014427 replay::10000 ]<--------"
     ]
    },
    {
     "data": {
      "image/png": "[encoded data removed]",
      "text/plain": [
       "<Figure size 432x288 with 1 Axes>"
      ]
     },
     "metadata": {},
     "output_type": "display_data"
    },
    {
     "name": "stdout",
     "output_type": "stream",
     "text": [
      "\n",
      "\n",
      "================================================================================\n",
      "training over 176\n",
      "================================================================================\n",
      "[0> 177::     0] training =  0, steps = 200, max_step = 200, reward=-133.477435 ::[[0.1286598]]:    TARGET:-1.416878 replay::10000 ]<----AGENT OVER\n",
      "CRITIC OVER\n",
      "SIMULATION OVER\n",
      "FINISHED!\n"
     ]
    },
    {
     "data": {
      "image/png": "[encoded data removed]",
      "text/plain": [
       "<Figure size 432x288 with 1 Axes>"
      ]
     },
     "metadata": {},
     "output_type": "display_data"
    }
   ],
   "source": [
    "def main():\n",
    "    print(GYM_CFG)\n",
    "\n",
    "    env = gym.make(CFG['task'])\n",
    "    \n",
    "    encoder = encoderstack(env)\n",
    "    task_factory = taskfactory(env)\n",
    "    task = task_factory.new(GYM_CFG, 0, -1)\n",
    "    \n",
    "    callback = context_callback(10, 10)\n",
    "    def callback_task(agent, stop_q):\n",
    "        return callback(task, agent, stop_q)\n",
    "\n",
    "    stop_q = Queue()\n",
    "    agent_launch(0, GYM_CFG, task_factory, encoder, ActorNN, CriticNN, stop_q, callback_task)\n",
    "    \n",
    "    scores = stop_q.get()\n",
    "    print(\"FINISHED!\")\n",
    "    print_stats(scores, \"testing scores\")\n",
    "\n",
    "if '__main__' == __name__:\n",
    "    main()"
   ]
  },
  {
   "cell_type": "code",
   "execution_count": null,
   "metadata": {},
   "outputs": [],
   "source": []
  }
 ],
 "metadata": {
  "anaconda-cloud": {},
  "kernelspec": {
   "display_name": "Python 3",
   "language": "python",
   "name": "python3"
  },
  "language_info": {
   "codemirror_mode": {
    "name": "ipython",
    "version": 3
   },
   "file_extension": ".py",
   "mimetype": "text/x-python",
   "name": "python",
   "nbconvert_exporter": "python",
   "pygments_lexer": "ipython3",
   "version": "3.6.5"
  }
 },
 "nbformat": 4,
 "nbformat_minor": 1
}
