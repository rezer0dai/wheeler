{
 "cells": [
  {
   "cell_type": "markdown",
   "metadata": {},
   "source": [
    "# OpenAI Gym ~ HER applicable problems (Acrobot-v1)\n",
    "- *Wheeler task definition ( task wrapper, State decoder settings, NeuralNetwork, ReplayBuffer, .. )*"
   ]
  },
  {
   "cell_type": "markdown",
   "metadata": {},
   "source": [
    "### Import generics"
   ]
  },
  {
   "cell_type": "code",
   "execution_count": 1,
   "metadata": {},
   "outputs": [],
   "source": [
    "import os, time\n",
    "\n",
    "os.chdir(\"..\")\n",
    "\n",
    "import numpy as np\n",
    "import toml, gym\n",
    "\n",
    "import torch\n",
    "from torch.multiprocessing import Queue, Process"
   ]
  },
  {
   "cell_type": "markdown",
   "metadata": {},
   "source": [
    "### Prepare statistic helpers"
   ]
  },
  {
   "cell_type": "code",
   "execution_count": 2,
   "metadata": {},
   "outputs": [],
   "source": [
    "import matplotlib.pyplot as plt\n",
    "%matplotlib inline\n",
    "\n",
    "def print_stats(scores, title):\n",
    "    fig = plt.figure()\n",
    "    ax = fig.add_subplot(111)\n",
    "    plt.plot(np.arange(1, len(scores)+1), scores)\n",
    "    plt.ylabel('Rewards')\n",
    "    plt.xlabel(title)\n",
    "    plt.show()"
   ]
  },
  {
   "cell_type": "markdown",
   "metadata": {},
   "source": [
    "### Load task configs ~ this should be adopted offline for particular task"
   ]
  },
  {
   "cell_type": "code",
   "execution_count": 3,
   "metadata": {},
   "outputs": [],
   "source": [
    "CFG = toml.loads(open('cfg.toml').read())\n",
    "GYM_CFG = toml.loads(open('gym.toml').read())\n",
    "\n",
    "torch.set_default_tensor_type(CFG['tensor'])\n",
    "\n",
    "CFG['task'] = \"Acrobot-v1\"\n",
    "GYM_CFG['her_state_size'] = 1\n",
    "GYM_CFG['her_state_features'] = 4\n",
    "GYM_CFG['max_n_episode'] = 1000"
   ]
  },
  {
   "cell_type": "markdown",
   "metadata": {},
   "source": [
    "### Import wheeler environment and particular utils we want to use ~ general ones ( shared across tasks )"
   ]
  },
  {
   "cell_type": "code",
   "execution_count": 4,
   "metadata": {},
   "outputs": [],
   "source": [
    "from utils.task import Task\n",
    "from utils.taskinfo import *\n",
    "\n",
    "from utils.rbf import *\n",
    "from utils.normalizer import *\n",
    "\n",
    "from utils.taskmgr import *\n",
    "from utils.replay import *\n",
    "\n",
    "from utils.fastmem import Memory\n",
    "\n",
    "from utils.curiosity import *\n",
    "\n",
    "from agent.zer0bot import agent_launch"
   ]
  },
  {
   "cell_type": "markdown",
   "metadata": {},
   "source": [
    "### Define Task wrapper ~ when is goal met, how to step ( update rewards function, .. ), when / how to reset"
   ]
  },
  {
   "cell_type": "code",
   "execution_count": 5,
   "metadata": {},
   "outputs": [],
   "source": [
    "# https://github.com/openai/gym/blob/master/gym/envs/classic_control/acrobot.py\n",
    "# ._terminal() + _get_ob() ; we add this to state, to be able to easier calculate distance from target\n",
    "def transform(s):\n",
    "    return np.hstack([\n",
    "        np.arccos(s[0]),\n",
    "        np.arccos(s[2]),\n",
    "        s,\n",
    "        ])\n",
    "\n",
    "def goal_select(total_after, n_step):\n",
    "    if total_after <= n_step + 1: # only last n_state reminds\n",
    "        return 0\n",
    "    if random.randint(0, 2):\n",
    "        return random.randint(1, n_step)\n",
    "    return random.randint(1, total_after - 1 - n_step)\n",
    "\n",
    "def fun_reward(s, gs, cfg):\n",
    "    return -1 * int(-np.cos(s[0]) - np.cos(s[1]+s[0]) < gs[0])\n",
    "\n",
    "def sample_goal(goal, cfg):\n",
    "    state_size = len(goal) // cfg['history_count']\n",
    "    g = goal[-state_size:]\n",
    "    return [-np.cos(g[0]) - np.cos(g[1]+g[0])]"
   ]
  },
  {
   "cell_type": "code",
   "execution_count": 6,
   "metadata": {},
   "outputs": [],
   "source": [
    "class GymTask(Task):\n",
    "    def step_ex(self, action, test = False):\n",
    "        action, a = self.softmax_policy(action, test)\n",
    "        state, reward, done, _ = self.env.step(self.bot_id, self.objective_id, a)\n",
    "\n",
    "        state = transform(state)\n",
    "\n",
    "        if test: state = [state]\n",
    "        else: reward = fun_reward(state, self.goal(0), self.cfg)\n",
    "            \n",
    "        return action, state, reward, done, True\n",
    "\n",
    "    def reset(self, seed = None, test = False):\n",
    "        state = super().reset(seed)\n",
    "        state = transform(state[0])\n",
    "        return [state.reshape(-1)]\n",
    "\n",
    "    def goal_met(self, states, rewards, n_steps):\n",
    "        return sum(rewards) > -250.\n",
    "\n",
    "    def goal(self, ind = 0):\n",
    "        return np.array([[1.]])\n",
    "    \n",
    "    def update_goal(self, _, goals, states, n_goals, n_states, updates):\n",
    "        for i, (g, s, n_g, n, u) in enumerate(zip(goals, states, n_goals, n_states, updates)):\n",
    "            if u:\n",
    "                g = states[i + goal_select(len(states) - i, self.cfg['n_step'])]\n",
    "                g = sample_goal(g, self.cfg)\n",
    "                n_g = g\n",
    "            \n",
    "            yield (\n",
    "                fun_reward(s, g, self.cfg),\n",
    "                g, s,\n",
    "                n_g, n,\n",
    "            )"
   ]
  },
  {
   "cell_type": "markdown",
   "metadata": {},
   "source": [
    "### Generic proxy for creating our Task ( multiprocess environments purpose mainly ) \n",
    "- but can also add wrapping function approx values ( action value to tanh, sigmoid, .. ) - this not works well with PPO now"
   ]
  },
  {
   "cell_type": "code",
   "execution_count": 7,
   "metadata": {},
   "outputs": [],
   "source": [
    "class GymInfo(TaskInfo):\n",
    "    def __init__(self, env, replaybuf, factory, Mgr, args):\n",
    "        super().__init__(\n",
    "                len(transform(env.reset())), 2, -2, +2,\n",
    "                CFG,\n",
    "                replaybuf,\n",
    "                factory, Mgr, args)\n",
    "\n",
    "    def new(self, cfg, bot_id, objective_id):\n",
    "        return GymTask(cfg,\n",
    "                self.env,\n",
    "                objective_id, bot_id,\n",
    "                self.action_low, self.action_high)\n",
    "\n",
    "    @staticmethod\n",
    "    def factory(ind): # bare metal task creation\n",
    "        global CFG\n",
    "        print(\"created %i-th task\"%ind)\n",
    "        return gym.make(CFG['task'])"
   ]
  },
  {
   "cell_type": "markdown",
   "metadata": {},
   "source": [
    "### Implement callback for testing policy ~ per X training rounds, we want to test it ~ enable visuals if you want"
   ]
  },
  {
   "cell_type": "code",
   "execution_count": 8,
   "metadata": {},
   "outputs": [],
   "source": [
    "def context_callback(count, print_every):\n",
    "    context_callback.z = 0\n",
    "    context_callback.scores = []\n",
    "    context_callback.total_scores = []\n",
    "    def callback(task, agent, scores):\n",
    "        context_callback.z += 1\n",
    "        context_callback.total_scores += scores\n",
    "        if 0 == context_callback.z % print_every:\n",
    "            print(\"\\nTEST review : \", np.mean(context_callback.scores[-print_every:]))\n",
    "        # we can save scores to main queue, and avarage them, or we can ..\n",
    "        # run testing w/ visuals :\n",
    "        for _ in range(count):\n",
    "            done, states, rewards = task.test_policy(agent)\n",
    "            rewards = sum(rewards)\n",
    "            context_callback.scores.append(rewards)            \n",
    "            if not done:\n",
    "                return None\n",
    "\n",
    "        print(\"\\n\")\n",
    "        print(\"=\"*80)\n",
    "        print(\"training over\", context_callback.z * GYM_CFG['n_simulations'] * GYM_CFG['mcts_rounds'])\n",
    "        print(\"=\"*80)\n",
    "        \n",
    "        print_stats(context_callback.scores, \"all-out::testing phase\")\n",
    "\n",
    "        return context_callback.total_scores\n",
    "    return callback"
   ]
  },
  {
   "cell_type": "markdown",
   "metadata": {},
   "source": [
    "### Prepare neural network which we will be using"
   ]
  },
  {
   "cell_type": "code",
   "execution_count": 9,
   "metadata": {},
   "outputs": [],
   "source": [
    "from models import ddpg_model, noisy_model, state_action_model\n",
    "\n",
    "def CriticNN(state_size, action_size, wrap_value, cfg):\n",
    "    return state_action_model.Critic(state_size, action_size, wrap_value, cfg, fcs1_units=256, fc2_units=128)\n",
    "\n",
    "def ActorNN(state_size, action_size, wrap_action, cfg):\n",
    "    return noisy_model.Actor(state_size, action_size, wrap_action, cfg, hiddens=[128, 64])\n",
    "    return noisy_model.Actor(state_size, action_size, wrap_action, cfg, hiddens=[64])\n",
    "    return noisy_model.Actor(state_size, action_size, wrap_action, cfg, hiddens=[400, 300])"
   ]
  },
  {
   "cell_type": "markdown",
   "metadata": {},
   "source": [
    "### Select encoders"
   ]
  },
  {
   "cell_type": "code",
   "execution_count": 10,
   "metadata": {},
   "outputs": [],
   "source": [
    "from utils.encoders import *\n",
    "from utils.rnn import *#GRUEncoder\n",
    "\n",
    "def encoderstack(env):\n",
    "    state_size = len(transform(env.reset()))\n",
    "    norm = GlobalNormalizer(GYM_CFG, state_size)\n",
    "    return norm\n",
    "    experience = GRUEncoder(GYM_CFG, norm.total_size())#GRU#LSTM\n",
    "    encoder_norm = StackedEncoder(GYM_CFG, state_size, norm, experience)\n",
    "    encoder_norm.share_memory()\n",
    "    return encoder_norm"
   ]
  },
  {
   "cell_type": "markdown",
   "metadata": {},
   "source": [
    "### Cook Task : replay buffer ( fast / prio-gae-rnn ) + task manager ( local / remote / unity )"
   ]
  },
  {
   "cell_type": "code",
   "execution_count": 11,
   "metadata": {},
   "outputs": [],
   "source": [
    "def taskfactory(env):\n",
    "#    return GymInfo(env, Memory, GymInfo.factory, LocalTaskManager, ())\n",
    "    return GymInfo(env, ReplayBuffer, GymInfo.factory, LocalTaskManager, ())\n",
    "    return GymInfo(env, ReplayBuffer, GymInfo.factory, RemoteTaskManager, (LocalTaskManager, 1 + GYM_CFG['n_simulations']))"
   ]
  },
  {
   "cell_type": "markdown",
   "metadata": {},
   "source": [
    "### Glue it all together ~ select buffer, encoders, agents, ... and RUN!!"
   ]
  },
  {
   "cell_type": "code",
   "execution_count": 12,
   "metadata": {},
   "outputs": [
    {
     "name": "stdout",
     "output_type": "stream",
     "text": [
      "{'ddpg': True, 'gae': False, 'n_step': 3, 'batch_size': 128, 'select_count': 10, 'discount_rate': 0.99, 'n_simulations': 1, 'send_exp_delta': 20, 'critic_learn_delta': 20, 'fast_exp_epochs': 15, 'full_replay_count': 10, 'lr_actor': 0.0003, 'lr_critic': 0.0001, 'mcts_rounds': 1, 'max_n_episode': 1000, 'max_ep_draw_count': 40, 'detached_actor': False, 'freeze_delta': 2, 'freeze_count': 4, 'history_count': 4, 'rnn_n_layers': 2, 'full_rnn_out': False, 'history_features': 256, 'her_state_size': 1, 'her_state_features': 4, 'postpone_exploring_while_learning': 2, 'ppo_eps': 0.2, 'loss_min': 1000, 'gae_tau': 0.95, 'replay_size': 10000, 'her_max_ratio': 3, 'replay_reanalyze': True, 'replay_cleaning': False, 'prob_treshold': 3.0, 'replay_alpha': 0.7, 'replay_beta_iters': 10000, 'replay_beta_base': 0.3, 'replay_beta_top': 0.9, 'pg_mean': True, 'action_repeat': 1, 'good_reach': 1, 'advantages_enabled': True, 'advantages_boost': False, 'normalize_advantages': False, 'attention_enabled': False, 'attention_hidden': 64, 'attention_amplifier': 2.0, 'mcts_random_cap': 1000000, 'use_curiosity_buf': True, 'actor_update_delay': 3, 'critic_update_delay': 3, 'tau_base': 0.001, 'tau_final': 0.007, 'tau_replay_counter': 100000, 'max_n_step': -10000, 'dbgout_train': True, 'dbgout_ratio': False, 'dbgout': True, 'loss_debug': False, 'device': 'cpu', 'tensor': 'torch.DoubleTensor', 'model_path': 'reacher_sig_dtb', 'load': False, 'save': False}\n",
      "\u001b[33mWARN: gym.spaces.Box autodetected dtype as <class 'numpy.float32'>. Please provide explicit dtype.\u001b[0m\n",
      "created 0-th task\n",
      "\u001b[33mWARN: gym.spaces.Box autodetected dtype as <class 'numpy.float32'>. Please provide explicit dtype.\u001b[0m\n",
      "created 1-th task\n",
      "\u001b[33mWARN: gym.spaces.Box autodetected dtype as <class 'numpy.float32'>. Please provide explicit dtype.\u001b[0m\n",
      "[0>  30::     0] training =  0, steps = 315, max_step = 244, reward=-310.000000 ::[[-0.01360126 -1.51787623]]: [ TARGET:-11.076723 replay::10000 ]<----000 ]<----\n",
      "TEST review :  -496.75862069\n",
      "[0>  60::     0] training =  0, steps = 327, max_step = 189, reward=-305.000000 ::[[-0.15461114  0.35658368]]: [ TARGET:-17.126903 replay::10000 ]<----000 ]<----\n",
      "TEST review :  -342.166666667\n",
      "[0>  90::     0] training =  0, steps = 500, max_step = 165, reward=-500.000000 ::[[-2.  2.]]: [ TARGET:-34.256732 replay::10000 ]<----ay::10000 ]<----000 ]<----\n",
      "TEST review :  -480.766666667\n",
      "[0> 120::     0] training =  0, steps = 166, max_step = 165, reward=-160.000000 ::[[ 1.34571742 -1.31168657]]: [ TARGET:-35.464013 replay::10000 ]<----\n",
      "TEST review :  -453.5\n",
      "[0> 134::     0] training =  0, steps = 161, max_step = 160, reward=-156.000000 ::[[ 2. -2.]]:  2.       ]]: : 741 replay::10000 ]<----ay::10000 ]<----\n",
      "\n",
      "================================================================================\n",
      "training over 134\n",
      "================================================================================\n"
     ]
    },
    {
     "data": {
      "image/png": "[encoded data removed]",
      "text/plain": [
       "<matplotlib.figure.Figure at 0x7f3a49668dd8>"
      ]
     },
     "metadata": {
      "needs_background": "light"
     },
     "output_type": "display_data"
    },
    {
     "name": "stdout",
     "output_type": "stream",
     "text": [
      "[0> 135::     0] training =  0, steps = 174, max_step = 160, reward=-166.000000 ::[[ 1.06139065 -1.02359721]]: 127 replay::10000 ]<----ay::10000 ]<----AGENT OVER\n",
      "CRITIC OVER\n",
      "SIMULATION OVER\n",
      "FINISHED!\n"
     ]
    },
    {
     "data": {
      "image/png": "[encoded data removed]",
      "text/plain": [
       "<matplotlib.figure.Figure at 0x7f39a3d9fd30>"
      ]
     },
     "metadata": {
      "needs_background": "light"
     },
     "output_type": "display_data"
    }
   ],
   "source": [
    "# well this does not fit to encoders, just temporary; encoders are in fact TODO to refactor and properly rethink!\n",
    "class GoalEncoder(IEncoder):\n",
    "    def __init__(self, cfg, size):\n",
    "        super().__init__({ 'history_count' : 1, 'history_features' : 0 })\n",
    "        self.size = size\n",
    "        self.net = torch.nn.Linear(size, cfg['her_state_features'], bias=False)\n",
    "    def out_size(self):\n",
    "        assert False, \"should not be called\"\n",
    "    def forward(self, goals, _):\n",
    "        return self.net(goals)\n",
    "\n",
    "def main():\n",
    "    print(GYM_CFG)\n",
    "\n",
    "    env = gym.make(CFG['task'])\n",
    "    \n",
    "    encoder = encoderstack(env)\n",
    "    task_factory = taskfactory(env)\n",
    "    task = task_factory.new(GYM_CFG, 0, -1)\n",
    "    \n",
    "    callback = context_callback(10, 30)\n",
    "    def callback_task(agent, stop_q):\n",
    "        return callback(task, agent, stop_q)\n",
    "\n",
    "    stop_q = Queue()\n",
    "    agent_launch(0, GYM_CFG, task_factory, encoder, ActorNN, CriticNN, stop_q, callback_task, GoalEncoder(GYM_CFG, 1))\n",
    "    \n",
    "    scores = stop_q.get()\n",
    "    print(\"FINISHED!\")\n",
    "    print_stats(scores, \"learning algorithm\")\n",
    "\n",
    "if '__main__' == __name__:\n",
    "    main()"
   ]
  },
  {
   "cell_type": "code",
   "execution_count": null,
   "metadata": {},
   "outputs": [],
   "source": []
  }
 ],
 "metadata": {
  "anaconda-cloud": {},
  "kernelspec": {
   "display_name": "Python 3",
   "language": "python",
   "name": "python3"
  },
  "language_info": {
   "codemirror_mode": {
    "name": "ipython",
    "version": 3
   },
   "file_extension": ".py",
   "mimetype": "text/x-python",
   "name": "python",
   "nbconvert_exporter": "python",
   "pygments_lexer": "ipython3",
   "version": "3.6.0"
  }
 },
 "nbformat": 4,
 "nbformat_minor": 1
}
