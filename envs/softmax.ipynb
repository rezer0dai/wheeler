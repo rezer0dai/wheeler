{
 "cells": [
  {
   "cell_type": "markdown",
   "metadata": {},
   "source": [
    "# OpenAI Gym ~ HER problems (CartPole-v1)\n",
    "- *Wheeler task definition ( task wrapper, State decoder settings, NeuralNetwork, ReplayBuffer, .. )*"
   ]
  },
  {
   "cell_type": "markdown",
   "metadata": {},
   "source": [
    "### Import generics"
   ]
  },
  {
   "cell_type": "code",
   "execution_count": 1,
   "metadata": {},
   "outputs": [],
   "source": [
    "import os, time\n",
    "\n",
    "os.chdir(\"..\")\n",
    "\n",
    "import numpy as np\n",
    "import toml, gym\n",
    "\n",
    "import torch\n",
    "from torch.multiprocessing import Queue, Process"
   ]
  },
  {
   "cell_type": "markdown",
   "metadata": {},
   "source": [
    "### Prepare statistic helpers"
   ]
  },
  {
   "cell_type": "code",
   "execution_count": 2,
   "metadata": {},
   "outputs": [],
   "source": [
    "import matplotlib.pyplot as plt\n",
    "%matplotlib inline\n",
    "\n",
    "def print_stats(scores, title):\n",
    "    fig = plt.figure()\n",
    "    ax = fig.add_subplot(111)\n",
    "    plt.plot(np.arange(1, len(scores)+1), scores)\n",
    "    plt.ylabel('Rewards')\n",
    "    plt.xlabel(title)\n",
    "    plt.show()"
   ]
  },
  {
   "cell_type": "markdown",
   "metadata": {},
   "source": [
    "### Load task configs ~ this should be adopted offline for particular task"
   ]
  },
  {
   "cell_type": "code",
   "execution_count": 3,
   "metadata": {},
   "outputs": [],
   "source": [
    "CFG = toml.loads(open('cfg.toml').read())\n",
    "GYM_CFG = toml.loads(open('gym.toml').read())\n",
    "\n",
    "torch.set_default_tensor_type(CFG['tensor'])\n",
    "\n",
    "CFG['task'] = \"CartPole-v1\""
   ]
  },
  {
   "cell_type": "markdown",
   "metadata": {},
   "source": [
    "### Import wheeler environment and particular utils we want to use ~ general ones ( shared across tasks )"
   ]
  },
  {
   "cell_type": "code",
   "execution_count": 4,
   "metadata": {},
   "outputs": [],
   "source": [
    "from utils.task import Task\n",
    "from utils.taskinfo import *\n",
    "\n",
    "from utils.rbf import *\n",
    "from utils.normalizer import *\n",
    "\n",
    "from utils.taskmgr import *\n",
    "from utils.replay import *\n",
    "\n",
    "from utils.fastmem import Memory\n",
    "\n",
    "from utils.curiosity import *\n",
    "\n",
    "from agent.zer0bot import agent_launch"
   ]
  },
  {
   "cell_type": "markdown",
   "metadata": {},
   "source": [
    "### Define Task wrapper ~ when is goal met, how to step ( update rewards function, .. ), when / how to reset"
   ]
  },
  {
   "cell_type": "code",
   "execution_count": 5,
   "metadata": {},
   "outputs": [],
   "source": [
    "class GymTask(Task):\n",
    "    def step_ex(self, action, test = False):\n",
    "        action, a = self.softmax_policy(action, test)\n",
    "        state, reward, done, _ = self.env.step(self.bot_id, self.objective_id, a)\n",
    "        if done:\n",
    "            reward = -40 * int(self.n_steps < self.cfg['max_n_episode'])#-40#\n",
    "        if test: return action, [ state.reshape(-1) ], reward, done, True\n",
    "        return action, state, reward, done, True\n",
    "\n",
    "    def goal_met(self, states, rewards, n_steps):\n",
    "        return sum(rewards) > 199 - 40"
   ]
  },
  {
   "cell_type": "markdown",
   "metadata": {},
   "source": [
    "### Generic proxy for creating our Task ( multiprocess environments purpose mainly ) \n",
    "- but can also add wrapping function approx values ( action value to tanh, sigmoid, .. ) - this not works well with PPO now"
   ]
  },
  {
   "cell_type": "code",
   "execution_count": 6,
   "metadata": {},
   "outputs": [],
   "source": [
    "class GymInfo(TaskInfo):\n",
    "    def __init__(self, env, replaybuf, factory, Mgr, args):\n",
    "        super().__init__(\n",
    "                len(env.reset()), 2, -1, +2,\n",
    "                CFG,\n",
    "                replaybuf,\n",
    "                factory, Mgr, args)\n",
    "\n",
    "    def new(self, cfg, bot_id, objective_id):\n",
    "        return GymTask(cfg,\n",
    "                self.env,\n",
    "                objective_id, bot_id,\n",
    "                self.action_low, self.action_high)\n",
    "\n",
    "    @staticmethod\n",
    "    def factory(ind): # bare metal task creation\n",
    "        global CFG\n",
    "        print(\"created %i-th task\"%ind)\n",
    "        return gym.make(CFG['task'])"
   ]
  },
  {
   "cell_type": "markdown",
   "metadata": {},
   "source": [
    "### Implement callback for testing policy ~ per X training rounds, we want to test it ~ enable visuals if you want"
   ]
  },
  {
   "cell_type": "code",
   "execution_count": 7,
   "metadata": {},
   "outputs": [],
   "source": [
    "def context_callback(count, print_every):\n",
    "    context_callback.z = 0\n",
    "    context_callback.scores = []\n",
    "    context_callback.total_scores = []\n",
    "    def callback(task, agent, scores):\n",
    "        context_callback.z += 1\n",
    "        context_callback.total_scores += scores\n",
    "        if 0 == context_callback.z % print_every:\n",
    "            print(\"\\nTEST review : \", np.mean(context_callback.scores[-print_every:]))\n",
    "        # we can save scores to main queue, and avarage them, or we can ..\n",
    "        # run testing w/ visuals :\n",
    "        for _ in range(count):\n",
    "            done, states, rewards = task.test_policy(agent)\n",
    "            rewards = sum(rewards)\n",
    "            context_callback.scores.append(rewards)            \n",
    "            if not done:\n",
    "                return None\n",
    "\n",
    "        print(\"\\n\")\n",
    "        print(\"=\"*80)\n",
    "        print(\"training over\", context_callback.z * GYM_CFG['n_simulations'] * GYM_CFG['mcts_rounds'])\n",
    "        print(\"=\"*80)\n",
    "        \n",
    "        print_stats(context_callback.scores, \"all-out::testing phase\")\n",
    "\n",
    "        return context_callback.total_scores\n",
    "    return callback"
   ]
  },
  {
   "cell_type": "markdown",
   "metadata": {},
   "source": [
    "### Prepare neural network which we will be using"
   ]
  },
  {
   "cell_type": "code",
   "execution_count": 8,
   "metadata": {},
   "outputs": [],
   "source": [
    "from models import ddpg_model, noisy_model, state_action_model\n",
    "\n",
    "def CriticNN(state_size, action_size, wrap_value, cfg):\n",
    "    return state_action_model.Critic(state_size, action_size, wrap_value, cfg, fcs1_units=256, fc2_units=128)\n",
    "\n",
    "def ActorNN(state_size, action_size, wrap_action, cfg):\n",
    "    return noisy_model.Actor(state_size, action_size, wrap_action, cfg, hiddens=[64])\n",
    "    return noisy_model.Actor(state_size, action_size, wrap_action, cfg, hiddens=[400, 300])\n",
    "    return noisy_model.Actor(state_size, action_size, wrap_action, cfg, hiddens=[128, 64])"
   ]
  },
  {
   "cell_type": "markdown",
   "metadata": {},
   "source": [
    "### Select encoders"
   ]
  },
  {
   "cell_type": "code",
   "execution_count": 9,
   "metadata": {},
   "outputs": [],
   "source": [
    "from utils.encoders import *\n",
    "from utils.rnn import *#GRUEncoder\n",
    "\n",
    "def encoderstack(env):\n",
    "    norm = GlobalNormalizer(GYM_CFG, len(env.reset()))\n",
    "    return norm\n",
    "    experience = GRUEncoder(GYM_CFG, norm.total_size())#GRU#LSTM\n",
    "    encoder_norm = StackedEncoder(GYM_CFG, len(env.reset()), norm, experience)\n",
    "    encoder_norm.share_memory()\n",
    "    return encoder_norm"
   ]
  },
  {
   "cell_type": "markdown",
   "metadata": {},
   "source": [
    "### Cook Task : replay buffer ( fast / prio-gae-rnn ) + task manager ( local / remote / unity )"
   ]
  },
  {
   "cell_type": "code",
   "execution_count": 10,
   "metadata": {},
   "outputs": [],
   "source": [
    "def taskfactory(env):\n",
    "    return GymInfo(env, Memory, GymInfo.factory, LocalTaskManager, ())\n",
    "    return GymInfo(env, ReplayBuffer, GymInfo.factory, LocalTaskManager, ())\n",
    "    return GymInfo(env, ReplayBuffer, GymInfo.factory, RemoteTaskManager, (LocalTaskManager, 1 + GYM_CFG['n_simulations']))"
   ]
  },
  {
   "cell_type": "markdown",
   "metadata": {},
   "source": [
    "### Glue it all together ~ select buffer, encoders, agents, ... and RUN!!"
   ]
  },
  {
   "cell_type": "code",
   "execution_count": 11,
   "metadata": {},
   "outputs": [
    {
     "name": "stdout",
     "output_type": "stream",
     "text": [
      "{'tensor': 'torch.DoubleTensor', 'task': 'CartPole-v1', 'total_simulations': 2, 'cross_exp_size': 5000, 'max_reward_val': 1000, 'min_reward_val': -1000}\n",
      "created 0-th task\n",
      "created 1-th task\n",
      "[0>  40::     0] training =  0, steps =  11, max_step =   9, reward=-30.000000 ::[[-1. -1.]]: TARGET:4.358505 replay::761 ]<------ay::615 ]<------\n",
      "TEST review :  -19.8205128205\n",
      "[0>  80::     0] training =  0, steps =  12, max_step =   8, reward=-29.000000 ::[[-1. -1.]]: TARGET:-0.346621 replay::1291 ]<-----\n",
      "TEST review :  -25.975\n",
      "[0> 120::     0] training =  0, steps =  14, max_step =   8, reward=-27.000000 ::[[-1. -1.]]: TARGET:6.344655 replay::1843 ]<------\n",
      "TEST review :  -27.325\n",
      "[0> 160::     0] training =  0, steps =  11, max_step =   8, reward=-30.000000 ::[[-1. -1.]]: 1.        ]]: 47 replay::2327 ]<-----y::2315 ]<------\n",
      "TEST review :  -27.475\n",
      "[0> 200::     0] training =  0, steps =  11, max_step =   8, reward=-30.000000 ::[[-1.  2.]]: TARGET:3.500250 replay::2922 ]<------lay::2662 ]<----\n",
      "TEST review :  -27.775\n",
      "[0> 240::     0] training =  0, steps =  74, max_step =   8, reward=33.000000 ::[[ 2.  2.]]:   2.        ]]:  TARGET:11.772039 replay::4088 ]<------\n",
      "TEST review :  -28.925\n",
      "[0> 280::     0] training =  0, steps = 173, max_step =   8, reward=132.000000 ::[[ 2.  2.]]: [ TARGET:12.229198 replay::6888 ]<-----:6888 ]<------\n",
      "TEST review :  0.55\n",
      "[0> 320::     0] training =  0, steps = 109, max_step =   8, reward=68.000000 ::[[ 2.  2.]]:   2.        ]]: [ TARGET:13.257723 replay::10000 ]<-----\n",
      "TEST review :  40.175\n",
      "[0> 360::     0] training =  0, steps = 136, max_step =   8, reward=95.000000 ::[[ 2.  2.]]:    2.        ]]: 2 replay::10000 ]<----:10000 ]<--------\n",
      "TEST review :  40.025\n",
      "[0> 396::     0] training =  0, steps = 210, max_step =   8, reward=169.000000 ::[[ 2.  2.]]:   2.        ]]: 73 replay::10000 ]<----::10000 ]<-------\n",
      "\n",
      "================================================================================\n",
      "training over 396\n",
      "================================================================================\n"
     ]
    },
    {
     "data": {
      "image/png": "[encoded data removed]",
      "text/plain": [
       "<matplotlib.figure.Figure at 0x7f00ce8d0da0>"
      ]
     },
     "metadata": {
      "needs_background": "light"
     },
     "output_type": "display_data"
    },
    {
     "name": "stdout",
     "output_type": "stream",
     "text": [
      "[0> 397::     0] training =  0, steps = 215, max_step =   8, reward=174.000000 ::[[ 2.  2.]]:   2.        ]]: [ TARGET:21.059059 replay::10000 ]<-----AGENT OVER\n",
      "CRITIC OVER\n",
      "SIMULATION OVER\n",
      "FINISHED!\n"
     ]
    },
    {
     "data": {
      "image/png": "[encoded data removed]",
      "text/plain": [
       "<matplotlib.figure.Figure at 0x7f01194d8eb8>"
      ]
     },
     "metadata": {
      "needs_background": "light"
     },
     "output_type": "display_data"
    }
   ],
   "source": [
    "def main():\n",
    "    print(CFG)\n",
    "\n",
    "    env = gym.make(CFG['task'])\n",
    "    \n",
    "    encoder = encoderstack(env)\n",
    "    task_factory = taskfactory(env)\n",
    "    task = task_factory.new(GYM_CFG, 0, -1)\n",
    "    \n",
    "    callback = context_callback(10, 40)\n",
    "    def callback_task(agent, stop_q):\n",
    "        return callback(task, agent, stop_q)\n",
    "\n",
    "    stop_q = Queue()\n",
    "    agent_launch(0, GYM_CFG, task_factory, encoder, ActorNN, CriticNN, stop_q, callback_task)\n",
    "    \n",
    "    scores = stop_q.get()\n",
    "    print(\"FINISHED!\")\n",
    "    print_stats(scores, \"learning algorithm\")\n",
    "\n",
    "if '__main__' == __name__:\n",
    "    main()"
   ]
  },
  {
   "cell_type": "code",
   "execution_count": null,
   "metadata": {},
   "outputs": [],
   "source": []
  }
 ],
 "metadata": {
  "anaconda-cloud": {},
  "kernelspec": {
   "display_name": "Python 3",
   "language": "python",
   "name": "python3"
  },
  "language_info": {
   "codemirror_mode": {
    "name": "ipython",
    "version": 3
   },
   "file_extension": ".py",
   "mimetype": "text/x-python",
   "name": "python",
   "nbconvert_exporter": "python",
   "pygments_lexer": "ipython3",
   "version": "3.6.0"
  }
 },
 "nbformat": 4,
 "nbformat_minor": 1
}
