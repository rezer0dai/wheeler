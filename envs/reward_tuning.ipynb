{
 "cells": [
  {
   "cell_type": "markdown",
   "metadata": {},
   "source": [
    "# OpenAI Gym ~ tweaking reward funtion (MountainCarContinuous-v0)\n",
    "- *Wheeler task definition ( task wrapper, State decoder settings, NeuralNetwork, ReplayBuffer, .. )*"
   ]
  },
  {
   "cell_type": "markdown",
   "metadata": {},
   "source": [
    "### Import generics"
   ]
  },
  {
   "cell_type": "code",
   "execution_count": 1,
   "metadata": {},
   "outputs": [],
   "source": [
    "import os, time\n",
    "\n",
    "os.chdir(\"..\")\n",
    "\n",
    "import numpy as np\n",
    "import toml, gym\n",
    "\n",
    "import torch\n",
    "from torch.multiprocessing import Queue, Process"
   ]
  },
  {
   "cell_type": "markdown",
   "metadata": {},
   "source": [
    "### Prepare statistic helpers"
   ]
  },
  {
   "cell_type": "code",
   "execution_count": 2,
   "metadata": {},
   "outputs": [],
   "source": [
    "import matplotlib.pyplot as plt\n",
    "%matplotlib inline\n",
    "\n",
    "def print_stats(scores, title):\n",
    "    fig = plt.figure()\n",
    "    ax = fig.add_subplot(111)\n",
    "    plt.plot(np.arange(1, len(scores)+1), scores)\n",
    "    plt.ylabel('Rewards')\n",
    "    plt.xlabel(title)\n",
    "    plt.show()"
   ]
  },
  {
   "cell_type": "markdown",
   "metadata": {},
   "source": [
    "### Load task configs ~ this should be adopted offline for particular task"
   ]
  },
  {
   "cell_type": "code",
   "execution_count": 3,
   "metadata": {},
   "outputs": [],
   "source": [
    "CFG = toml.loads(open('cfg.toml').read())\n",
    "GYM_CFG = toml.loads(open('gym.toml').read())\n",
    "\n",
    "torch.set_default_tensor_type(CFG['tensor'])\n",
    "\n",
    "CFG['task'] = \"MountainCarContinuous-v0\""
   ]
  },
  {
   "cell_type": "markdown",
   "metadata": {},
   "source": [
    "### Import wheeler environment and particular utils we want to use ~ general ones ( shared across tasks )"
   ]
  },
  {
   "cell_type": "code",
   "execution_count": 4,
   "metadata": {},
   "outputs": [],
   "source": [
    "from utils.task import Task\n",
    "from utils.taskinfo import *\n",
    "\n",
    "from utils.rbf import *\n",
    "from utils.normalizer import *\n",
    "\n",
    "from utils.taskmgr import *\n",
    "from utils.replay import *\n",
    "\n",
    "from utils.fastmem import Memory\n",
    "\n",
    "from utils.curiosity import *\n",
    "\n",
    "from agent.zer0bot import agent_launch"
   ]
  },
  {
   "cell_type": "markdown",
   "metadata": {},
   "source": [
    "### Define Task wrapper ~ when is goal met, how to step ( update rewards function, .. ), when / how to reset"
   ]
  },
  {
   "cell_type": "code",
   "execution_count": 5,
   "metadata": {},
   "outputs": [],
   "source": [
    "class MCarTask(Task):\n",
    "    def __init__(self, cfg, env, objective_id, bot_id, action_low, action_high, rewarder):\n",
    "        self.reward = 0\n",
    "        self.rewards = []\n",
    "\n",
    "        super().__init__(\n",
    "                cfg,\n",
    "                env,\n",
    "                objective_id,\n",
    "                bot_id,\n",
    "                action_low, action_high)\n",
    "\n",
    "        self.rewarder = rewarder\n",
    "\n",
    "    def reset(self, seed = None, test = False):\n",
    "        state = super().reset(seed, test)\n",
    "        self.rewards.append(self.reward)\n",
    "        self.reward = 0\n",
    "        self.prev_state = state[0]\n",
    "        return state\n",
    "\n",
    "    def step_ex(self, action, test = False):\n",
    "        state, reward, done, _ = self.env.step(self.bot_id, self.objective_id, action)\n",
    "\n",
    "        if test: return action, state.reshape(1, -1), reward, done, True\n",
    "\n",
    "        self.reward += (done and reward > 0)\n",
    "\n",
    "        curiosity_test = '''\n",
    "        if not test and reward < 0:\n",
    "            ss, ns = np.vstack([s] * self.cfg['history_count']), np.vstack([n] * self.cfg['history_count'])\n",
    "            ss = ss.reshape(1, -1)\n",
    "            ns = ns.reshape(1, -1)\n",
    "            reward = self.rewarder.weight(ss, ns, action)[0]\n",
    "            self.rewarder.update(ss, ns, action)\n",
    "        self.prev_state = state\n",
    "\n",
    "        reward_update  = '''\n",
    "        if not test and not done:# and sum(self.rewards) < 3\n",
    "            true_state = np.abs(np.cos(np.pi/3.) + state[0])\n",
    "            reward += -(1. - true_state)\n",
    "#        '''\n",
    "\n",
    "        return action, state, reward, done, True\n",
    "\n",
    "    def goal_met(self, states, rewards, n_steps):\n",
    "        return sum(rewards) > 90."
   ]
  },
  {
   "cell_type": "markdown",
   "metadata": {},
   "source": [
    "### Generic proxy for creating our Task ( multiprocess environments purpose mainly ) \n",
    "- but can also add wrapping function approx values ( action value to tanh, sigmoid, .. ) - this not works well with PPO now"
   ]
  },
  {
   "cell_type": "code",
   "execution_count": 6,
   "metadata": {},
   "outputs": [],
   "source": [
    "class MCarInfo(TaskInfo):\n",
    "    def __init__(self, env, replaybuf, factory, Mgr, args):\n",
    "        super().__init__(\n",
    "                len(env.reset()), 1, -1, +1,\n",
    "                CFG,\n",
    "                replaybuf,\n",
    "                factory, Mgr, args)\n",
    "\n",
    "        self.rewarder = CuriosityPrio(\n",
    "                self.state_size, self.action_size,\n",
    "                self.action_range, self.wrap_action, \"cpu\", GYM_CFG)\n",
    "\n",
    "    def new(self, cfg, bot_id, objective_id):\n",
    "        return MCarTask(cfg,\n",
    "                self.env,\n",
    "                objective_id, bot_id,\n",
    "                self.action_low, self.action_high,\n",
    "                self.rewarder)\n",
    "\n",
    "    @staticmethod\n",
    "    def factory(ind): # bare metal task creation\n",
    "        print(\"created %i-th task\"%ind)\n",
    "        CFG = toml.loads(open('cfg.toml').read())\n",
    "        return gym.make(CFG['task'])\n",
    "    \n",
    "#    def wrap_action(self, x):\n",
    "#        return torch.tanh(x)"
   ]
  },
  {
   "cell_type": "markdown",
   "metadata": {},
   "source": [
    "### Implement callback for testing policy ~ per X training rounds, we want to test it ~ enable visuals if you want"
   ]
  },
  {
   "cell_type": "code",
   "execution_count": 7,
   "metadata": {},
   "outputs": [],
   "source": [
    "def context_callback(count, print_every):\n",
    "    context_callback.z = 0\n",
    "    context_callback.scores = []\n",
    "    context_callback.total_scores = []\n",
    "    def callback(task, agent, scores):\n",
    "        context_callback.z += 1\n",
    "        context_callback.total_scores += scores\n",
    "        if 0 == context_callback.z % print_every:\n",
    "            print(\"\\nTEST review : \", np.mean(context_callback.scores[-print_every:]))\n",
    "        # we can save scores to main queue, and avarage them, or we can ..\n",
    "        # run testing w/ visuals :\n",
    "        for _ in range(count):\n",
    "            done, states, rewards = task.test_policy(agent)\n",
    "            rewards = sum(rewards)\n",
    "            context_callback.scores.append(rewards)            \n",
    "            if not done:\n",
    "                return None\n",
    "\n",
    "        print(\"\\n\")\n",
    "        print(\"=\"*80)\n",
    "        print(\"training over\", context_callback.z * GYM_CFG['n_simulations'] * GYM_CFG['mcts_rounds'])\n",
    "        print(\"=\"*80)\n",
    "        \n",
    "        print_stats(context_callback.scores, \"all-out::testing phase\")\n",
    "\n",
    "        return context_callback.total_scores\n",
    "    return callback"
   ]
  },
  {
   "cell_type": "markdown",
   "metadata": {},
   "source": [
    "### Prepare neural network which we will be using"
   ]
  },
  {
   "cell_type": "code",
   "execution_count": 8,
   "metadata": {},
   "outputs": [],
   "source": [
    "from models import ddpg_model, noisy_model, state_action_model\n",
    "\n",
    "def CriticNN(state_size, action_size, wrap_value, cfg):\n",
    "    return state_action_model.Critic(state_size, action_size, wrap_value, cfg, fcs1_units=256, fc2_units=128)\n",
    "\n",
    "def ActorNN(state_size, action_size, wrap_action, cfg):\n",
    "    return noisy_model.Actor(state_size, action_size, wrap_action, cfg, hiddens=[64, 32])\n",
    "    return noisy_model.Actor(state_size, action_size, wrap_action, cfg, hiddens=[128, 64])\n",
    "    return noisy_model.Actor(state_size, action_size, wrap_action, cfg, hiddens=[400, 300])"
   ]
  },
  {
   "cell_type": "markdown",
   "metadata": {},
   "source": [
    "### Select encoders"
   ]
  },
  {
   "cell_type": "code",
   "execution_count": 9,
   "metadata": {},
   "outputs": [],
   "source": [
    "from utils.encoders import *\n",
    "from utils.rnn import *#GRUEncoder\n",
    "\n",
    "def encoderstack(env):\n",
    "    encoder = RBFEncoder(GYM_CFG, env, [5., 2., 1., .5], [5] * 4)\n",
    "    return encoder\n",
    "\n",
    "    norm = BatchNormalizer3D(GYM_CFG, encoder.out_size())\n",
    "    encoder = StackedEncoder(GYM_CFG, len(env.reset()), encoder, norm)\n",
    "    return encoder\n",
    "\n",
    "    experience = FasterGRUEncoder(GYM_CFG, encoder.total_size())#GRU#LSTM\n",
    "    encoder_norm = StackedEncoder(GYM_CFG, len(env.reset()), encoder, experience)\n",
    "    print(encoder_norm)\n",
    "    return encoder_norm"
   ]
  },
  {
   "cell_type": "markdown",
   "metadata": {},
   "source": [
    "### Cook Task : replay buffer ( fast / prio-gae-rnn ) + task manager ( local / remote / unity )"
   ]
  },
  {
   "cell_type": "code",
   "execution_count": 10,
   "metadata": {},
   "outputs": [],
   "source": [
    "def taskfactory(env):\n",
    "    return MCarInfo(env, Memory, MCarInfo.factory, LocalTaskManager, ())\n",
    "    return MCarInfo(env, ReplayBuffer, MCarInfo.factory, LocalTaskManager, ())\n",
    "    return MCarInfo(env, ReplayBuffer, MCarInfo.factory, RemoteTaskManager, (LocalTaskManager, 1 + GYM_CFG['n_simulations']))"
   ]
  },
  {
   "cell_type": "markdown",
   "metadata": {},
   "source": [
    "### Glue it all together ~ select buffer, encoders, agents, ... and RUN!!"
   ]
  },
  {
   "cell_type": "code",
   "execution_count": 11,
   "metadata": {},
   "outputs": [
    {
     "name": "stdout",
     "output_type": "stream",
     "text": [
      "{'tensor': 'torch.DoubleTensor', 'task': 'MountainCarContinuous-v0', 'total_simulations': 2, 'cross_exp_size': 5000, 'max_reward_val': 1000, 'min_reward_val': -1000}\n",
      "\u001b[33mWARN: gym.spaces.Box autodetected dtype as <class 'numpy.float32'>. Please provide explicit dtype.\u001b[0m\n",
      "\u001b[33mWARN: gym.spaces.Box autodetected dtype as <class 'numpy.float32'>. Please provide explicit dtype.\u001b[0m\n",
      "created 0-th task\n",
      "\u001b[33mWARN: gym.spaces.Box autodetected dtype as <class 'numpy.float32'>. Please provide explicit dtype.\u001b[0m\n",
      "\u001b[33mWARN: gym.spaces.Box autodetected dtype as <class 'numpy.float32'>. Please provide explicit dtype.\u001b[0m\n",
      "created 1-th task\n",
      "\u001b[33mWARN: gym.spaces.Box autodetected dtype as <class 'numpy.float32'>. Please provide explicit dtype.\u001b[0m\n",
      "\u001b[33mWARN: gym.spaces.Box autodetected dtype as <class 'numpy.float32'>. Please provide explicit dtype.\u001b[0m\n",
      "\r",
      "[0>   1::     0] training =  0, steps =   1, max_step = 10000, reward=-1.061324 ::[[0.85187641]]: \r",
      "[0>   1::     0] training =  0, steps =   2, max_step = 10000, reward=-2.119780 ::[[0.84696839]]: \r",
      "[0>   1::     0] training =  0, steps =   3, max_step = 10000, reward=-3.160990 ::[[0.75752675]]: \r",
      "[0>   1::     0] training =  0, steps =   4, max_step = 10000, reward=-4.144756 ::[[0.16695954]]: \r",
      "[0>   1::     0] training =  0, steps =   5, max_step = 10000, reward=-5.126358 ::[[0.18519705]]: \r",
      "[0>   1::     0] training =  0, steps =   6, max_step = 10000, reward=-6.106267 ::[[0.21264051]]: \r",
      "[0>   1::     0] training =  0, steps =   7, max_step = 10000, reward=-7.084173 ::[[0.23000894]]: \r",
      "[0>   1::     0] training =  0, steps =   8, max_step = 10000, reward=-8.058713 ::[[0.21530376]]: \r",
      "[0>   1::     0] training =  0, steps =   9, max_step = 10000, reward=-9.030061 ::[[0.20143257]]: \r",
      "[0>   1::     0] training =  0, steps =  10, max_step = 10000, reward=-9.998475 ::[[0.18978866]]: \r",
      "[0>   1::     0] training =  0, steps =  11, max_step = 10000, reward=-10.964182 ::[[0.17896803]]: \r",
      "[0>   1::     0] training =  0, steps =  12, max_step = 10000, reward=-11.927380 ::[[0.16721174]]: \r",
      "[0>   1::     0] training =  0, steps =  13, max_step = 10000, reward=-12.888287 ::[[0.1539009]]: \r",
      "[0>   1::     0] training =  0, steps =  14, max_step = 10000, reward=-13.847203 ::[[0.1401615]]: \r",
      "[0>   1::     0] training =  0, steps =  15, max_step = 10000, reward=-14.804466 ::[[0.12623609]]: \r",
      "[0>   1::     0] training =  0, steps =  16, max_step = 10000, reward=-15.760493 ::[[0.11414014]]: \r",
      "[0>   1::     0] training =  0, steps =  17, max_step = 10000, reward=-16.715673 ::[[0.10208017]]: \r",
      "[0>   1::     0] training =  0, steps =  18, max_step = 10000, reward=-17.670420 ::[[0.09023473]]: \r",
      "[0>   1::     0] training =  0, steps =  19, max_step = 10000, reward=-18.625109 ::[[0.07443812]]: \r",
      "[0>   1::     0] training =  0, steps =  20, max_step = 10000, reward=-19.580199 ::[[0.05649843]]: \r",
      "[0>   1::     0] training =  0, steps =  21, max_step = 10000, reward=-20.536214 ::[[0.03950858]]: \r",
      "[0>   1::     0] training =  0, steps =  22, max_step = 10000, reward=-21.493687 ::[[0.02393674]]: \r",
      "[0>   1::     0] training =  0, steps =  23, max_step = 10000, reward=-22.453170 ::[[0.02253347]]: "
     ]
    },
    {
     "name": "stderr",
     "output_type": "stream",
     "text": [
      "/home/xyz/anaconda3/lib/python3.6/site-packages/sklearn/externals/joblib/parallel.py:547: UserWarning: Multiprocessing-backed parallel loops cannot be nested below threads, setting n_jobs=1\n",
      "  **self._backend_args)\n"
     ]
    },
    {
     "name": "stdout",
     "output_type": "stream",
     "text": [
      "\r",
      "[0>   1::     0] training =  0, steps =  24, max_step = 10000, reward=-23.415127 ::[[0.02654825]]: \r",
      "[0>   1::     0] training =  0, steps =  25, max_step = 10000, reward=-24.379995 ::[[0.03434091]]: \r",
      "[0>   1::     0] training =  0, steps =  26, max_step = 10000, reward=-25.348175 ::[[0.04401991]]: \r",
      "[0>   1::     0] training =  0, steps =  27, max_step = 10000, reward=-26.320044 ::[[0.05612777]]: \r",
      "[0>   1::     0] training =  0, steps =  28, max_step = 10000, reward=-27.295873 ::[[0.06449031]]: \r",
      "[0>   1::     0] training =  0, steps =  29, max_step = 10000, reward=-28.275941 ::[[0.0738643]]: \r",
      "[0>   1::     0] training =  0, steps =  30, max_step = 10000, reward=-29.260462 ::[[0.08275721]]: \r",
      "[0>   1::     0] training =  0, steps =  31, max_step = 10000, reward=-30.249635 ::[[0.09295012]]: \r",
      "[0>   1::     0] training =  0, steps =  32, max_step = 10000, reward=-31.243622 ::[[0.10484166]]: \r",
      "[0>   1::     0] training =  0, steps =  33, max_step = 10000, reward=-32.242509 ::[[0.11683871]]: \r",
      "[0>   1::     0] training =  0, steps =  34, max_step = 10000, reward=-33.242028 ::[[0.12945919]]: \r",
      "[0>   1::     0] training =  0, steps =  35, max_step = 10000, reward=-34.237543 ::[[0.14978743]]: \r",
      "[0>   1::     0] training =  0, steps =  36, max_step = 10000, reward=-35.229273 ::[[0.17028646]]: \r",
      "[0>   1::     0] training =  0, steps =  37, max_step = 10000, reward=-36.217565 ::[[0.19259344]]: \r",
      "[0>   1::     0] training =  0, steps =  38, max_step = 10000, reward=-37.202738 ::[[0.21394273]]: \r",
      "[0>   1::     0] training =  0, steps =  39, max_step = 10000, reward=-38.185148 ::[[0.2341347]]: \r",
      "[0>   1::     0] training =  0, steps =  40, max_step = 10000, reward=-39.164767 ::[[0.24483395]]: \r",
      "[0>   1::     0] training =  0, steps =  41, max_step = 10000, reward=-40.141500 ::[[0.24542803]]: \r",
      "[0>   1::     0] training =  0, steps =  42, max_step = 10000, reward=-41.115628 ::[[0.24341757]]: \r",
      "[0>   1::     0] training =  0, steps =  43, max_step = 10000, reward=-42.087473 ::[[0.23935246]]: \r",
      "[0>   1::     0] training =  0, steps =  44, max_step = 10000, reward=-43.057729 ::[[0.24059687]]: \r",
      "[0>   1::     0] training =  0, steps =  45, max_step = 10000, reward=-44.026823 ::[[0.2413323]]: \r",
      "[0>   1::     0] training =  0, steps =  46, max_step = 10000, reward=-44.995146 ::[[0.24064944]]: \r",
      "[0>   1::     0] training =  0, steps =  47, max_step = 10000, reward=-45.962997 ::[[0.23659316]]: \r",
      "[0>   1::     0] training =  0, steps =  48, max_step = 10000, reward=-46.930737 ::[[0.23050392]]: \r",
      "[0>   1::     0] training =  0, steps =  49, max_step = 10000, reward=-47.898902 ::[[0.2263017]]: \r",
      "[0>   1::     0] training =  0, steps =  50, max_step = 10000, reward=-48.867438 ::[[0.21115402]]: \r",
      "[0>   1::     0] training =  0, steps =  51, max_step = 10000, reward=-49.837378 ::[[0.21025323]]: \r",
      "[0>   1::     0] training =  0, steps =  52, max_step = 10000, reward=-50.809321 ::[[0.21397075]]: \r",
      "[0>   1::     0] training =  0, steps =  53, max_step = 10000, reward=-51.783769 ::[[0.22004679]]: \r",
      "[0>   1::     0] training =  0, steps =  54, max_step = 10000, reward=-52.761298 ::[[0.2298818]]: \r",
      "[0>   1::     0] training =  0, steps =  55, max_step = 10000, reward=-53.742445 ::[[0.24226574]]: \r",
      "[0>   1::     0] training =  0, steps =  56, max_step = 10000, reward=-54.727369 ::[[0.24963482]]: \r",
      "[0>   1::     0] training =  0, steps =  57, max_step = 10000, reward=-55.716553 ::[[0.25892435]]: \r",
      "[0>   1::     0] training =  0, steps =  58, max_step = 10000, reward=-56.710485 ::[[0.27031184]]: \r",
      "[0>   1::     0] training =  0, steps =  59, max_step = 10000, reward=-57.709665 ::[[0.28386117]]: \r",
      "[0>   1::     0] training =  0, steps =  60, max_step = 10000, reward=-58.714559 ::[[0.29897082]]: \r",
      "[0>   1::     0] training =  0, steps =  61, max_step = 10000, reward=-59.723318 ::[[0.31421348]]: \r",
      "[0>   1::     0] training =  0, steps =  62, max_step = 10000, reward=-60.727982 ::[[0.33548283]]: \r",
      "[0>   1::     0] training =  0, steps =  63, max_step = 10000, reward=-61.728134 ::[[0.35389696]]: \r",
      "[0>   1::     0] training =  0, steps =  64, max_step = 10000, reward=-62.722710 ::[[0.36057116]]: \r",
      "[0>   1::     0] training =  0, steps =  65, max_step = 10000, reward=-63.711677 ::[[0.36993931]]: \r",
      "[0>   1::     0] training =  0, steps =  66, max_step = 10000, reward=-64.695195 ::[[0.38399068]]: \r",
      "[0>   1::     0] training =  0, steps =  67, max_step = 10000, reward=-65.672680 ::[[0.39242376]]: \r",
      "[0>   1::     0] training =  0, steps =  68, max_step = 10000, reward=-66.643494 ::[[0.39431849]]: \r",
      "[0>   1::     0] training =  0, steps =  69, max_step = 10000, reward=-67.607264 ::[[0.39249091]]: \r",
      "[0>   1::     0] training =  0, steps =  70, max_step = 10000, reward=-68.563629 ::[[0.38627259]]: \r",
      "[0>   1::     0] training =  0, steps =  71, max_step = 10000, reward=-69.512402 ::[[0.37687349]]: \r",
      "[0>   1::     0] training =  0, steps =  72, max_step = 10000, reward=-70.453543 ::[[0.3651819]]: \r",
      "[0>   1::     0] training =  0, steps =  73, max_step = 10000, reward=-71.386877 ::[[0.34792637]]: \r",
      "[0>   1::     0] training =  0, steps =  74, max_step = 10000, reward=-72.312433 ::[[0.32614055]]: \r",
      "[0>   1::     0] training =  0, steps =  75, max_step = 10000, reward=-73.230364 ::[[0.29952658]]: \r",
      "[0>   1::     0] training =  0, steps =  76, max_step = 10000, reward=-74.140933 ::[[0.26692592]]: \r",
      "[0>   1::     0] training =  0, steps =  77, max_step = 10000, reward=-75.044385 ::[[0.2231107]]: \r",
      "[0>   1::     0] training =  0, steps =  78, max_step = 10000, reward=-75.941637 ::[[0.17591411]]: \r",
      "[0>   1::     0] training =  0, steps =  79, max_step = 10000, reward=-76.833872 ::[[0.12800549]]: \r",
      "[0>   1::     0] training =  0, steps =  80, max_step = 10000, reward=-77.722473 ::[[0.08500912]]: \r",
      "[0>   1::     0] training =  0, steps =  81, max_step = 10000, reward=-78.608739 ::[[0.042391]]: \r",
      "[0>   1::     0] training =  0, steps =  82, max_step = 10000, reward=-79.494043 ::[[-0.00394799]]: \r",
      "[0>   1::     0] training =  0, steps =  83, max_step = 10000, reward=-80.379968 ::[[-0.05602593]]: \r",
      "[0>   1::     0] training =  0, steps =  84, max_step = 10000, reward=-81.268324 ::[[-0.11237634]]: \r",
      "[0>   1::     0] training =  0, steps =  85, max_step = 10000, reward=-82.160596 ::[[-0.15697851]]: \r",
      "[0>   1::     0] training =  0, steps =  86, max_step = 10000, reward=-83.057619 ::[[-0.18042703]]: \r",
      "[0>   1::     0] training =  0, steps =  87, max_step = 10000, reward=-83.960271 ::[[-0.19200413]]: \r",
      "[0>   1::     0] training =  0, steps =  88, max_step = 10000, reward=-84.869146 ::[[-0.18752099]]: \r",
      "[0>   1::     0] training =  0, steps =  89, max_step = 10000, reward=-85.785030 ::[[-0.17335079]]: \r",
      "[0>   1::     0] training =  0, steps =  90, max_step = 10000, reward=-86.708744 ::[[-0.15076013]]: \r",
      "[0>   1::     0] training =  0, steps =  91, max_step = 10000, reward=-87.640855 ::[[-0.10909911]]: \r",
      "[0>   1::     0] training =  0, steps =  92, max_step = 10000, reward=-88.582376 ::[[-0.05879026]]: \r",
      "[0>   1::     0] training =  0, steps =  93, max_step = 10000, reward=-89.534424 ::[[-0.00350687]]: \r",
      "[0>   1::     0] training =  0, steps =  94, max_step = 10000, reward=-90.497997 ::[[0.04317692]]: \r",
      "[0>   1::     0] training =  0, steps =  95, max_step = 10000, reward=-91.473933 ::[[0.09508152]]: \r",
      "[0>   1::     0] training =  0, steps =  96, max_step = 10000, reward=-92.463060 ::[[0.15211683]]: \r",
      "[0>   1::     0] training =  0, steps =  97, max_step = 10000, reward=-93.466124 ::[[0.21247898]]: \r",
      "[0>   1::     0] training =  0, steps =  98, max_step = 10000, reward=-94.463500 ::[[0.27278091]]: \r",
      "[0>   1::     0] training =  0, steps =  99, max_step = 10000, reward=-95.452478 ::[[0.31909142]]: \r",
      "[0>   1::     0] training =  0, steps = 100, max_step = 10000, reward=-96.433775 ::[[0.36214391]]: \r",
      "[0>   1::     0] training =  0, steps = 101, max_step = 10000, reward=-97.408238 ::[[0.40283426]]: \r",
      "[0>   1::     0] training =  0, steps = 102, max_step = 10000, reward=-98.376161 ::[[0.43414658]]: \r",
      "[0>   1::     0] training =  0, steps = 103, max_step = 10000, reward=-99.336960 ::[[0.44731022]]: \r",
      "[0>   1::     0] training =  0, steps = 104, max_step = 10000, reward=-100.290663 ::[[0.4500549]]: \r",
      "[0>   1::     0] training =  0, steps = 105, max_step = 10000, reward=-101.239024 ::[[0.46090012]]: \r",
      "[0>   1::     0] training =  0, steps = 106, max_step = 10000, reward=-102.182700 ::[[0.46710939]]: \r",
      "[0>   1::     0] training =  0, steps = 107, max_step = 10000, reward=-103.117875 ::[[0.41884869]]: \r",
      "[0>   1::     0] training =  0, steps = 108, max_step = 10000, reward=-104.043680 ::[[0.3384283]]: \r",
      "[0>   1::     0] training =  0, steps = 109, max_step = 10000, reward=-104.960461 ::[[0.22166019]]: \r",
      "[0>   1::     0] training =  0, steps = 110, max_step = 10000, reward=-105.871510 ::[[0.10161366]]: \r",
      "[0>   1::     0] training =  0, steps = 111, max_step = 10000, reward=-106.780194 ::[[0.00969043]]: \r",
      "[0>   1::     0] training =  0, steps = 112, max_step = 10000, reward=-107.688239 ::[[-0.05366234]]: \r",
      "[0>   1::     0] training =  0, steps = 113, max_step = 10000, reward=-108.596264 ::[[-0.08993841]]: \r",
      "[0>   1::     0] training =  0, steps = 114, max_step = 10000, reward=-109.504587 ::[[-0.11427534]]: \r",
      "[0>   1::     0] training =  0, steps = 115, max_step = 10000, reward=-110.413494 ::[[-0.13302389]]: \r",
      "[0>   1::     0] training =  0, steps = 116, max_step = 10000, reward=-111.323193 ::[[-0.14651807]]: \r",
      "[0>   1::     0] training =  0, steps = 117, max_step = 10000, reward=-112.233758 ::[[-0.15204891]]: \r",
      "[0>   1::     0] training =  0, steps = 118, max_step = 10000, reward=-113.145414 ::[[-0.15588412]]: \r",
      "[0>   1::     0] training =  0, steps = 119, max_step = 10000, reward=-114.058376 ::[[-0.15806126]]: \r",
      "[0>   1::     0] training =  0, steps = 120, max_step = 10000, reward=-114.972826 ::[[-0.15798752]]: \r",
      "[0>   1::     0] training =  0, steps = 121, max_step = 10000, reward=-115.888898 ::[[-0.15416463]]: \r",
      "[0>   1::     0] training =  0, steps = 122, max_step = 10000, reward=-116.806797 ::[[-0.14899607]]: \r",
      "[0>   1::     0] training =  0, steps = 123, max_step = 10000, reward=-117.726655 ::[[-0.13965498]]: \r",
      "[0>   1::     0] training =  0, steps = 124, max_step = 10000, reward=-118.648505 ::[[-0.12081622]]: \r",
      "[0>   1::     0] training =  0, steps = 125, max_step = 10000, reward=-119.572660 ::[[-0.10066234]]: \r",
      "[0>   1::     0] training =  0, steps = 126, max_step = 10000, reward=-120.499513 ::[[-0.08304257]]: \r",
      "[0>   1::     0] training =  0, steps = 127, max_step = 10000, reward=-121.429392 ::[[-0.06413063]]: \r",
      "[0>   1::     0] training =  0, steps = 128, max_step = 10000, reward=-122.362630 ::[[-0.04265925]]: \r",
      "[0>   1::     0] training =  0, steps = 129, max_step = 10000, reward=-123.299606 ::[[-0.01820702]]: \r",
      "[0>   1::     0] training =  0, steps = 130, max_step = 10000, reward=-124.240751 ::[[0.00885442]]: \r",
      "[0>   1::     0] training =  0, steps = 131, max_step = 10000, reward=-125.186546 ::[[0.03774391]]: \r",
      "[0>   1::     0] training =  0, steps = 132, max_step = 10000, reward=-126.137518 ::[[0.06860868]]: \r",
      "[0>   1::     0] training =  0, steps = 133, max_step = 10000, reward=-127.094275 ::[[0.10283749]]: \r",
      "[0>   1::     0] training =  0, steps = 134, max_step = 10000, reward=-128.057447 ::[[0.13835915]]: \r",
      "[0>   1::     0] training =  0, steps = 135, max_step = 10000, reward=-129.027744 ::[[0.17611071]]: \r",
      "[0>   1::     0] training =  0, steps = 136, max_step = 10000, reward=-130.006083 ::[[0.21927619]]: \r",
      "[0>   1::     0] training =  0, steps = 137, max_step = 10000, reward=-130.993060 ::[[0.25885775]]: \r",
      "[0>   1::     0] training =  0, steps = 138, max_step = 10000, reward=-131.989361 ::[[0.29770555]]: \r",
      "[0>   1::     0] training =  0, steps = 139, max_step = 10000, reward=-132.995801 ::[[0.3378621]]: \r",
      "[0>   1::     0] training =  0, steps = 140, max_step = 10000, reward=-134.006711 ::[[0.37339559]]: \r",
      "[0>   1::     0] training =  0, steps = 141, max_step = 10000, reward=-135.012059 ::[[0.40990557]]: \r",
      "[0>   1::     0] training =  0, steps = 142, max_step = 10000, reward=-136.011691 ::[[0.44627896]]: \r",
      "[0>   1::     0] training =  0, steps = 143, max_step = 10000, reward=-137.005359 ::[[0.48140655]]: \r",
      "[0>   1::     0] training =  0, steps = 144, max_step = 10000, reward=-137.993077 ::[[0.51797866]]: \r",
      "[0>   1::     0] training =  0, steps = 145, max_step = 10000, reward=-138.972535 ::[[0.53391514]]: \r",
      "[0>   1::     0] training =  0, steps = 146, max_step = 10000, reward=-139.942317 ::[[0.53884198]]: "
     ]
    },
    {
     "name": "stdout",
     "output_type": "stream",
     "text": [
      "[0>   5::     0] training =  0, steps = 999, max_step = 999, reward=-976.451203 ::[[-0.07428039]]:  TARGET:-4.355519 replay::3996 ]<-----\n",
      "TEST review :  -5.983615870350453\n",
      "[0>  10::     0] training =  0, steps = 999, max_step = 999, reward=-928.424856 ::[[0.15152562]]:  [ TARGET:-8.000849 replay::8991 ]<----\n",
      "TEST review :  -4.489535203309337\n",
      "[0>  15::     0] training =  0, steps = 999, max_step = 999, reward=-905.921370 ::[[-0.38096772]]: [ TARGET:-9.699252 replay::10000 ]<-----\n",
      "TEST review :  -7.243809918321142\n",
      "[0>  20::     0] training =  0, steps = 999, max_step = 999, reward=-908.926020 ::[[-0.43819206]]: [ TARGET:-12.914779 replay::10000 ]<----\n",
      "TEST review :  -13.683358173238952\n",
      "[0>  25::     0] training =  0, steps = 999, max_step = 999, reward=-585.413894 ::[[0.11109489]]:  [ TARGET:-10.960509 replay::10000 ]<----\n",
      "TEST review :  -12.805697473523688\n",
      "[0>  30::     0] training =  0, steps = 171, max_step = 171, reward=-20.794754 ::[[-0.46499681]]:  [ TARGET:-14.830892 replay::10000 ]<----\n",
      "TEST review :  -30.620487489847314\n",
      "[0>  35::     0] training =  0, steps = 375, max_step = 165, reward=-137.768566 ::[[-0.20855293]]: -15.572247 replay::10000 ]<----00 ]<----\n",
      "TEST review :  68.32190681473506\n",
      "[0>  36::     0] training =  0, steps = 557, max_step = 165, reward=-290.992188 ::[[-0.29442997]]:  TARGET:-7.279556 replay::10000 ]<------\n",
      "\n",
      "================================================================================\n",
      "training over 36\n",
      "================================================================================\n"
     ]
    },
    {
     "data": {
      "image/png": "[encoded data removed]",
      "text/plain": [
       "<Figure size 432x288 with 1 Axes>"
      ]
     },
     "metadata": {},
     "output_type": "display_data"
    },
    {
     "name": "stdout",
     "output_type": "stream",
     "text": [
      "[0>  37::     0] training =  0, steps = 272, max_step = 165, reward=-74.018287 ::[[-0.24330709]]:   TARGET:-9.477889 replay::10000 ]<------\n",
      "\n",
      "================================================================================\n",
      "training over 37\n",
      "================================================================================\n"
     ]
    },
    {
     "data": {
      "image/png": "[encoded data removed]",
      "text/plain": [
       "<Figure size 432x288 with 1 Axes>"
      ]
     },
     "metadata": {},
     "output_type": "display_data"
    },
    {
     "name": "stdout",
     "output_type": "stream",
     "text": [
      "AGENT OVER\n",
      "CRITIC OVER\n",
      "SIMULATION OVER\n",
      "FINISHED!\n"
     ]
    },
    {
     "data": {
      "image/png": "[encoded data removed]",
      "text/plain": [
       "<Figure size 432x288 with 1 Axes>"
      ]
     },
     "metadata": {},
     "output_type": "display_data"
    }
   ],
   "source": [
    "def main():\n",
    "    print(CFG)\n",
    "\n",
    "    env = gym.make(CFG['task'])\n",
    "    \n",
    "    encoder = encoderstack(env)\n",
    "    task_factory = taskfactory(env)\n",
    "    task = task_factory.new(GYM_CFG, 0, -1)\n",
    "    \n",
    "    callback = context_callback(10, 5)\n",
    "    def callback_task(agent, stop_q):\n",
    "        return callback(task, agent, stop_q)\n",
    "\n",
    "    stop_q = Queue()\n",
    "    agent_launch(0, GYM_CFG, task_factory, encoder, ActorNN, CriticNN, stop_q, callback_task)\n",
    "    \n",
    "    scores = stop_q.get()\n",
    "    print(\"FINISHED!\")\n",
    "    print_stats(scores, \"learning algorithm\")\n",
    "\n",
    "if '__main__' == __name__:\n",
    "    main()"
   ]
  },
  {
   "cell_type": "code",
   "execution_count": null,
   "metadata": {},
   "outputs": [],
   "source": []
  }
 ],
 "metadata": {
  "anaconda-cloud": {},
  "kernelspec": {
   "display_name": "Python 3",
   "language": "python",
   "name": "python3"
  },
  "language_info": {
   "codemirror_mode": {
    "name": "ipython",
    "version": 3
   },
   "file_extension": ".py",
   "mimetype": "text/x-python",
   "name": "python",
   "nbconvert_exporter": "python",
   "pygments_lexer": "ipython3",
   "version": "3.6.5"
  }
 },
 "nbformat": 4,
 "nbformat_minor": 1
}
